{
  "cells": [
    {
      "cell_type": "markdown",
      "id": "8db38b53",
      "metadata": {
        "id": "8db38b53"
      },
      "source": [
        "#  Heart Diesease Prediction Using Logistic Regression \n"
      ]
    },
    {
      "cell_type": "markdown",
      "id": "5a0fb55c",
      "metadata": {
        "id": "5a0fb55c"
      },
      "source": [
        "###  Importing all important libraries"
      ]
    },
    {
      "cell_type": "code",
      "execution_count": 1,
      "id": "2bd6bc6a",
      "metadata": {
        "id": "2bd6bc6a"
      },
      "outputs": [],
      "source": [
        "%matplotlib inline\n",
        "import matplotlib.pyplot as plt\n",
        "# import seaborn as sns\n",
        "import pandas as pd\n",
        "# import statsmodels.api as s"
      ]
    },
    {
      "cell_type": "code",
      "execution_count": null,
      "id": "f94ac833",
      "metadata": {
        "id": "f94ac833",
        "outputId": "fa3ee190-ff24-453f-f502-439dcb813af5"
      },
      "outputs": [
        {
          "data": {
            "text/html": [
              "<div>\n",
              "<style scoped>\n",
              "    .dataframe tbody tr th:only-of-type {\n",
              "        vertical-align: middle;\n",
              "    }\n",
              "\n",
              "    .dataframe tbody tr th {\n",
              "        vertical-align: top;\n",
              "    }\n",
              "\n",
              "    .dataframe thead th {\n",
              "        text-align: right;\n",
              "    }\n",
              "</style>\n",
              "<table border=\"1\" class=\"dataframe\">\n",
              "  <thead>\n",
              "    <tr style=\"text-align: right;\">\n",
              "      <th></th>\n",
              "      <th>Age</th>\n",
              "      <th>Sex</th>\n",
              "      <th>ChestPain</th>\n",
              "      <th>RestBP</th>\n",
              "      <th>Chol</th>\n",
              "      <th>Fbs</th>\n",
              "      <th>RestECG</th>\n",
              "      <th>MaxHR</th>\n",
              "      <th>ExAng</th>\n",
              "      <th>Oldpeak</th>\n",
              "      <th>Slope</th>\n",
              "      <th>Ca</th>\n",
              "      <th>Thal</th>\n",
              "      <th>AHD</th>\n",
              "    </tr>\n",
              "  </thead>\n",
              "  <tbody>\n",
              "    <tr>\n",
              "      <th>1</th>\n",
              "      <td>63</td>\n",
              "      <td>1</td>\n",
              "      <td>typical</td>\n",
              "      <td>145</td>\n",
              "      <td>233</td>\n",
              "      <td>1</td>\n",
              "      <td>2</td>\n",
              "      <td>150</td>\n",
              "      <td>0</td>\n",
              "      <td>2.3</td>\n",
              "      <td>3</td>\n",
              "      <td>0.0</td>\n",
              "      <td>fixed</td>\n",
              "      <td>No</td>\n",
              "    </tr>\n",
              "    <tr>\n",
              "      <th>2</th>\n",
              "      <td>67</td>\n",
              "      <td>1</td>\n",
              "      <td>asymptomatic</td>\n",
              "      <td>160</td>\n",
              "      <td>286</td>\n",
              "      <td>0</td>\n",
              "      <td>2</td>\n",
              "      <td>108</td>\n",
              "      <td>1</td>\n",
              "      <td>1.5</td>\n",
              "      <td>2</td>\n",
              "      <td>3.0</td>\n",
              "      <td>normal</td>\n",
              "      <td>Yes</td>\n",
              "    </tr>\n",
              "    <tr>\n",
              "      <th>3</th>\n",
              "      <td>67</td>\n",
              "      <td>1</td>\n",
              "      <td>asymptomatic</td>\n",
              "      <td>120</td>\n",
              "      <td>229</td>\n",
              "      <td>0</td>\n",
              "      <td>2</td>\n",
              "      <td>129</td>\n",
              "      <td>1</td>\n",
              "      <td>2.6</td>\n",
              "      <td>2</td>\n",
              "      <td>2.0</td>\n",
              "      <td>reversable</td>\n",
              "      <td>Yes</td>\n",
              "    </tr>\n",
              "    <tr>\n",
              "      <th>4</th>\n",
              "      <td>37</td>\n",
              "      <td>1</td>\n",
              "      <td>nonanginal</td>\n",
              "      <td>130</td>\n",
              "      <td>250</td>\n",
              "      <td>0</td>\n",
              "      <td>0</td>\n",
              "      <td>187</td>\n",
              "      <td>0</td>\n",
              "      <td>3.5</td>\n",
              "      <td>3</td>\n",
              "      <td>0.0</td>\n",
              "      <td>normal</td>\n",
              "      <td>No</td>\n",
              "    </tr>\n",
              "    <tr>\n",
              "      <th>5</th>\n",
              "      <td>41</td>\n",
              "      <td>0</td>\n",
              "      <td>nontypical</td>\n",
              "      <td>130</td>\n",
              "      <td>204</td>\n",
              "      <td>0</td>\n",
              "      <td>2</td>\n",
              "      <td>172</td>\n",
              "      <td>0</td>\n",
              "      <td>1.4</td>\n",
              "      <td>1</td>\n",
              "      <td>0.0</td>\n",
              "      <td>normal</td>\n",
              "      <td>No</td>\n",
              "    </tr>\n",
              "    <tr>\n",
              "      <th>...</th>\n",
              "      <td>...</td>\n",
              "      <td>...</td>\n",
              "      <td>...</td>\n",
              "      <td>...</td>\n",
              "      <td>...</td>\n",
              "      <td>...</td>\n",
              "      <td>...</td>\n",
              "      <td>...</td>\n",
              "      <td>...</td>\n",
              "      <td>...</td>\n",
              "      <td>...</td>\n",
              "      <td>...</td>\n",
              "      <td>...</td>\n",
              "      <td>...</td>\n",
              "    </tr>\n",
              "    <tr>\n",
              "      <th>299</th>\n",
              "      <td>45</td>\n",
              "      <td>1</td>\n",
              "      <td>typical</td>\n",
              "      <td>110</td>\n",
              "      <td>264</td>\n",
              "      <td>0</td>\n",
              "      <td>0</td>\n",
              "      <td>132</td>\n",
              "      <td>0</td>\n",
              "      <td>1.2</td>\n",
              "      <td>2</td>\n",
              "      <td>0.0</td>\n",
              "      <td>reversable</td>\n",
              "      <td>Yes</td>\n",
              "    </tr>\n",
              "    <tr>\n",
              "      <th>300</th>\n",
              "      <td>68</td>\n",
              "      <td>1</td>\n",
              "      <td>asymptomatic</td>\n",
              "      <td>144</td>\n",
              "      <td>193</td>\n",
              "      <td>1</td>\n",
              "      <td>0</td>\n",
              "      <td>141</td>\n",
              "      <td>0</td>\n",
              "      <td>3.4</td>\n",
              "      <td>2</td>\n",
              "      <td>2.0</td>\n",
              "      <td>reversable</td>\n",
              "      <td>Yes</td>\n",
              "    </tr>\n",
              "    <tr>\n",
              "      <th>301</th>\n",
              "      <td>57</td>\n",
              "      <td>1</td>\n",
              "      <td>asymptomatic</td>\n",
              "      <td>130</td>\n",
              "      <td>131</td>\n",
              "      <td>0</td>\n",
              "      <td>0</td>\n",
              "      <td>115</td>\n",
              "      <td>1</td>\n",
              "      <td>1.2</td>\n",
              "      <td>2</td>\n",
              "      <td>1.0</td>\n",
              "      <td>reversable</td>\n",
              "      <td>Yes</td>\n",
              "    </tr>\n",
              "    <tr>\n",
              "      <th>302</th>\n",
              "      <td>57</td>\n",
              "      <td>0</td>\n",
              "      <td>nontypical</td>\n",
              "      <td>130</td>\n",
              "      <td>236</td>\n",
              "      <td>0</td>\n",
              "      <td>2</td>\n",
              "      <td>174</td>\n",
              "      <td>0</td>\n",
              "      <td>0.0</td>\n",
              "      <td>2</td>\n",
              "      <td>1.0</td>\n",
              "      <td>normal</td>\n",
              "      <td>Yes</td>\n",
              "    </tr>\n",
              "    <tr>\n",
              "      <th>303</th>\n",
              "      <td>38</td>\n",
              "      <td>1</td>\n",
              "      <td>nonanginal</td>\n",
              "      <td>138</td>\n",
              "      <td>175</td>\n",
              "      <td>0</td>\n",
              "      <td>0</td>\n",
              "      <td>173</td>\n",
              "      <td>0</td>\n",
              "      <td>0.0</td>\n",
              "      <td>1</td>\n",
              "      <td>NaN</td>\n",
              "      <td>normal</td>\n",
              "      <td>No</td>\n",
              "    </tr>\n",
              "  </tbody>\n",
              "</table>\n",
              "<p>303 rows × 14 columns</p>\n",
              "</div>"
            ],
            "text/plain": [
              "     Age  Sex     ChestPain  RestBP  Chol  Fbs  RestECG  MaxHR  ExAng  \\\n",
              "1     63    1       typical     145   233    1        2    150      0   \n",
              "2     67    1  asymptomatic     160   286    0        2    108      1   \n",
              "3     67    1  asymptomatic     120   229    0        2    129      1   \n",
              "4     37    1    nonanginal     130   250    0        0    187      0   \n",
              "5     41    0    nontypical     130   204    0        2    172      0   \n",
              "..   ...  ...           ...     ...   ...  ...      ...    ...    ...   \n",
              "299   45    1       typical     110   264    0        0    132      0   \n",
              "300   68    1  asymptomatic     144   193    1        0    141      0   \n",
              "301   57    1  asymptomatic     130   131    0        0    115      1   \n",
              "302   57    0    nontypical     130   236    0        2    174      0   \n",
              "303   38    1    nonanginal     138   175    0        0    173      0   \n",
              "\n",
              "     Oldpeak  Slope   Ca        Thal  AHD  \n",
              "1        2.3      3  0.0       fixed   No  \n",
              "2        1.5      2  3.0      normal  Yes  \n",
              "3        2.6      2  2.0  reversable  Yes  \n",
              "4        3.5      3  0.0      normal   No  \n",
              "5        1.4      1  0.0      normal   No  \n",
              "..       ...    ...  ...         ...  ...  \n",
              "299      1.2      2  0.0  reversable  Yes  \n",
              "300      3.4      2  2.0  reversable  Yes  \n",
              "301      1.2      2  1.0  reversable  Yes  \n",
              "302      0.0      2  1.0      normal  Yes  \n",
              "303      0.0      1  NaN      normal   No  \n",
              "\n",
              "[303 rows x 14 columns]"
            ]
          },
          "execution_count": 2,
          "metadata": {},
          "output_type": "execute_result"
        }
      ],
      "source": [
        "import numpy as np\n",
        "df = pd.read_csv('heart_disease.csv')\n",
        "# df = pd.read_csv('heart_disease_new.csv')\n",
        "df"
      ]
    },
    {
      "cell_type": "markdown",
      "id": "e750065f",
      "metadata": {
        "id": "e750065f"
      },
      "source": [
        "### Dropping Null Values "
      ]
    },
    {
      "cell_type": "code",
      "execution_count": null,
      "id": "90082a48",
      "metadata": {
        "id": "90082a48",
        "outputId": "8ba3ff9a-a3ce-4041-9050-6570451048ba"
      },
      "outputs": [
        {
          "data": {
            "text/html": [
              "<div>\n",
              "<style scoped>\n",
              "    .dataframe tbody tr th:only-of-type {\n",
              "        vertical-align: middle;\n",
              "    }\n",
              "\n",
              "    .dataframe tbody tr th {\n",
              "        vertical-align: top;\n",
              "    }\n",
              "\n",
              "    .dataframe thead th {\n",
              "        text-align: right;\n",
              "    }\n",
              "</style>\n",
              "<table border=\"1\" class=\"dataframe\">\n",
              "  <thead>\n",
              "    <tr style=\"text-align: right;\">\n",
              "      <th></th>\n",
              "      <th>Age</th>\n",
              "      <th>Sex</th>\n",
              "      <th>ChestPain</th>\n",
              "      <th>RestBP</th>\n",
              "      <th>Chol</th>\n",
              "      <th>Fbs</th>\n",
              "      <th>RestECG</th>\n",
              "      <th>MaxHR</th>\n",
              "      <th>ExAng</th>\n",
              "      <th>Oldpeak</th>\n",
              "      <th>Slope</th>\n",
              "      <th>Ca</th>\n",
              "      <th>Thal</th>\n",
              "      <th>AHD</th>\n",
              "    </tr>\n",
              "  </thead>\n",
              "  <tbody>\n",
              "    <tr>\n",
              "      <th>1</th>\n",
              "      <td>63</td>\n",
              "      <td>1</td>\n",
              "      <td>typical</td>\n",
              "      <td>145</td>\n",
              "      <td>233</td>\n",
              "      <td>1</td>\n",
              "      <td>2</td>\n",
              "      <td>150</td>\n",
              "      <td>0</td>\n",
              "      <td>2.3</td>\n",
              "      <td>3</td>\n",
              "      <td>0.0</td>\n",
              "      <td>fixed</td>\n",
              "      <td>No</td>\n",
              "    </tr>\n",
              "    <tr>\n",
              "      <th>2</th>\n",
              "      <td>67</td>\n",
              "      <td>1</td>\n",
              "      <td>asymptomatic</td>\n",
              "      <td>160</td>\n",
              "      <td>286</td>\n",
              "      <td>0</td>\n",
              "      <td>2</td>\n",
              "      <td>108</td>\n",
              "      <td>1</td>\n",
              "      <td>1.5</td>\n",
              "      <td>2</td>\n",
              "      <td>3.0</td>\n",
              "      <td>normal</td>\n",
              "      <td>Yes</td>\n",
              "    </tr>\n",
              "    <tr>\n",
              "      <th>3</th>\n",
              "      <td>67</td>\n",
              "      <td>1</td>\n",
              "      <td>asymptomatic</td>\n",
              "      <td>120</td>\n",
              "      <td>229</td>\n",
              "      <td>0</td>\n",
              "      <td>2</td>\n",
              "      <td>129</td>\n",
              "      <td>1</td>\n",
              "      <td>2.6</td>\n",
              "      <td>2</td>\n",
              "      <td>2.0</td>\n",
              "      <td>reversable</td>\n",
              "      <td>Yes</td>\n",
              "    </tr>\n",
              "    <tr>\n",
              "      <th>4</th>\n",
              "      <td>37</td>\n",
              "      <td>1</td>\n",
              "      <td>nonanginal</td>\n",
              "      <td>130</td>\n",
              "      <td>250</td>\n",
              "      <td>0</td>\n",
              "      <td>0</td>\n",
              "      <td>187</td>\n",
              "      <td>0</td>\n",
              "      <td>3.5</td>\n",
              "      <td>3</td>\n",
              "      <td>0.0</td>\n",
              "      <td>normal</td>\n",
              "      <td>No</td>\n",
              "    </tr>\n",
              "    <tr>\n",
              "      <th>5</th>\n",
              "      <td>41</td>\n",
              "      <td>0</td>\n",
              "      <td>nontypical</td>\n",
              "      <td>130</td>\n",
              "      <td>204</td>\n",
              "      <td>0</td>\n",
              "      <td>2</td>\n",
              "      <td>172</td>\n",
              "      <td>0</td>\n",
              "      <td>1.4</td>\n",
              "      <td>1</td>\n",
              "      <td>0.0</td>\n",
              "      <td>normal</td>\n",
              "      <td>No</td>\n",
              "    </tr>\n",
              "    <tr>\n",
              "      <th>...</th>\n",
              "      <td>...</td>\n",
              "      <td>...</td>\n",
              "      <td>...</td>\n",
              "      <td>...</td>\n",
              "      <td>...</td>\n",
              "      <td>...</td>\n",
              "      <td>...</td>\n",
              "      <td>...</td>\n",
              "      <td>...</td>\n",
              "      <td>...</td>\n",
              "      <td>...</td>\n",
              "      <td>...</td>\n",
              "      <td>...</td>\n",
              "      <td>...</td>\n",
              "    </tr>\n",
              "    <tr>\n",
              "      <th>298</th>\n",
              "      <td>57</td>\n",
              "      <td>0</td>\n",
              "      <td>asymptomatic</td>\n",
              "      <td>140</td>\n",
              "      <td>241</td>\n",
              "      <td>0</td>\n",
              "      <td>0</td>\n",
              "      <td>123</td>\n",
              "      <td>1</td>\n",
              "      <td>0.2</td>\n",
              "      <td>2</td>\n",
              "      <td>0.0</td>\n",
              "      <td>reversable</td>\n",
              "      <td>Yes</td>\n",
              "    </tr>\n",
              "    <tr>\n",
              "      <th>299</th>\n",
              "      <td>45</td>\n",
              "      <td>1</td>\n",
              "      <td>typical</td>\n",
              "      <td>110</td>\n",
              "      <td>264</td>\n",
              "      <td>0</td>\n",
              "      <td>0</td>\n",
              "      <td>132</td>\n",
              "      <td>0</td>\n",
              "      <td>1.2</td>\n",
              "      <td>2</td>\n",
              "      <td>0.0</td>\n",
              "      <td>reversable</td>\n",
              "      <td>Yes</td>\n",
              "    </tr>\n",
              "    <tr>\n",
              "      <th>300</th>\n",
              "      <td>68</td>\n",
              "      <td>1</td>\n",
              "      <td>asymptomatic</td>\n",
              "      <td>144</td>\n",
              "      <td>193</td>\n",
              "      <td>1</td>\n",
              "      <td>0</td>\n",
              "      <td>141</td>\n",
              "      <td>0</td>\n",
              "      <td>3.4</td>\n",
              "      <td>2</td>\n",
              "      <td>2.0</td>\n",
              "      <td>reversable</td>\n",
              "      <td>Yes</td>\n",
              "    </tr>\n",
              "    <tr>\n",
              "      <th>301</th>\n",
              "      <td>57</td>\n",
              "      <td>1</td>\n",
              "      <td>asymptomatic</td>\n",
              "      <td>130</td>\n",
              "      <td>131</td>\n",
              "      <td>0</td>\n",
              "      <td>0</td>\n",
              "      <td>115</td>\n",
              "      <td>1</td>\n",
              "      <td>1.2</td>\n",
              "      <td>2</td>\n",
              "      <td>1.0</td>\n",
              "      <td>reversable</td>\n",
              "      <td>Yes</td>\n",
              "    </tr>\n",
              "    <tr>\n",
              "      <th>302</th>\n",
              "      <td>57</td>\n",
              "      <td>0</td>\n",
              "      <td>nontypical</td>\n",
              "      <td>130</td>\n",
              "      <td>236</td>\n",
              "      <td>0</td>\n",
              "      <td>2</td>\n",
              "      <td>174</td>\n",
              "      <td>0</td>\n",
              "      <td>0.0</td>\n",
              "      <td>2</td>\n",
              "      <td>1.0</td>\n",
              "      <td>normal</td>\n",
              "      <td>Yes</td>\n",
              "    </tr>\n",
              "  </tbody>\n",
              "</table>\n",
              "<p>297 rows × 14 columns</p>\n",
              "</div>"
            ],
            "text/plain": [
              "     Age  Sex     ChestPain  RestBP  Chol  Fbs  RestECG  MaxHR  ExAng  \\\n",
              "1     63    1       typical     145   233    1        2    150      0   \n",
              "2     67    1  asymptomatic     160   286    0        2    108      1   \n",
              "3     67    1  asymptomatic     120   229    0        2    129      1   \n",
              "4     37    1    nonanginal     130   250    0        0    187      0   \n",
              "5     41    0    nontypical     130   204    0        2    172      0   \n",
              "..   ...  ...           ...     ...   ...  ...      ...    ...    ...   \n",
              "298   57    0  asymptomatic     140   241    0        0    123      1   \n",
              "299   45    1       typical     110   264    0        0    132      0   \n",
              "300   68    1  asymptomatic     144   193    1        0    141      0   \n",
              "301   57    1  asymptomatic     130   131    0        0    115      1   \n",
              "302   57    0    nontypical     130   236    0        2    174      0   \n",
              "\n",
              "     Oldpeak  Slope   Ca        Thal  AHD  \n",
              "1        2.3      3  0.0       fixed   No  \n",
              "2        1.5      2  3.0      normal  Yes  \n",
              "3        2.6      2  2.0  reversable  Yes  \n",
              "4        3.5      3  0.0      normal   No  \n",
              "5        1.4      1  0.0      normal   No  \n",
              "..       ...    ...  ...         ...  ...  \n",
              "298      0.2      2  0.0  reversable  Yes  \n",
              "299      1.2      2  0.0  reversable  Yes  \n",
              "300      3.4      2  2.0  reversable  Yes  \n",
              "301      1.2      2  1.0  reversable  Yes  \n",
              "302      0.0      2  1.0      normal  Yes  \n",
              "\n",
              "[297 rows x 14 columns]"
            ]
          },
          "execution_count": 3,
          "metadata": {},
          "output_type": "execute_result"
        }
      ],
      "source": [
        "# mean = df[\"Ca\"].mean()\n",
        "df.dropna(inplace=True)\n",
        "df"
      ]
    },
    {
      "cell_type": "code",
      "execution_count": null,
      "id": "85bc70fd",
      "metadata": {
        "id": "85bc70fd"
      },
      "outputs": [],
      "source": [
        "# df[\"Ca\"].fillna(value=mean,inplace=True)\n",
        "# df.shape"
      ]
    },
    {
      "cell_type": "code",
      "execution_count": null,
      "id": "950893a3",
      "metadata": {
        "id": "950893a3"
      },
      "outputs": [],
      "source": [
        "#val = df[\"Thal\"].mode()\n",
        "#print(val[0])"
      ]
    },
    {
      "cell_type": "code",
      "execution_count": null,
      "id": "0d5892a8",
      "metadata": {
        "id": "0d5892a8"
      },
      "outputs": [],
      "source": [
        "# df[\"Thal\"].fillna(value=val[0],inplace=True)"
      ]
    },
    {
      "cell_type": "markdown",
      "id": "2314e059",
      "metadata": {
        "id": "2314e059"
      },
      "source": [
        "###  Check any values are missing"
      ]
    },
    {
      "cell_type": "code",
      "execution_count": null,
      "id": "0920f479",
      "metadata": {
        "id": "0920f479",
        "outputId": "9b6e2bc4-fb93-4d8f-f986-9b15f867d519"
      },
      "outputs": [
        {
          "data": {
            "text/plain": [
              "Age          0\n",
              "Sex          0\n",
              "ChestPain    0\n",
              "RestBP       0\n",
              "Chol         0\n",
              "Fbs          0\n",
              "RestECG      0\n",
              "MaxHR        0\n",
              "ExAng        0\n",
              "Oldpeak      0\n",
              "Slope        0\n",
              "Ca           0\n",
              "Thal         0\n",
              "AHD          0\n",
              "dtype: int64"
            ]
          },
          "execution_count": 7,
          "metadata": {},
          "output_type": "execute_result"
        }
      ],
      "source": [
        "df.isna().sum()"
      ]
    },
    {
      "cell_type": "code",
      "execution_count": null,
      "id": "fd76e013",
      "metadata": {
        "id": "fd76e013",
        "outputId": "30f41de6-09bb-4a74-97f7-f1f6c5b10efb"
      },
      "outputs": [
        {
          "data": {
            "text/html": [
              "<div>\n",
              "<style scoped>\n",
              "    .dataframe tbody tr th:only-of-type {\n",
              "        vertical-align: middle;\n",
              "    }\n",
              "\n",
              "    .dataframe tbody tr th {\n",
              "        vertical-align: top;\n",
              "    }\n",
              "\n",
              "    .dataframe thead th {\n",
              "        text-align: right;\n",
              "    }\n",
              "</style>\n",
              "<table border=\"1\" class=\"dataframe\">\n",
              "  <thead>\n",
              "    <tr style=\"text-align: right;\">\n",
              "      <th></th>\n",
              "      <th>Age</th>\n",
              "      <th>Sex</th>\n",
              "      <th>ChestPain</th>\n",
              "      <th>RestBP</th>\n",
              "      <th>Chol</th>\n",
              "      <th>Fbs</th>\n",
              "      <th>RestECG</th>\n",
              "      <th>MaxHR</th>\n",
              "      <th>ExAng</th>\n",
              "      <th>Oldpeak</th>\n",
              "      <th>Slope</th>\n",
              "      <th>Ca</th>\n",
              "      <th>Thal</th>\n",
              "      <th>AHD</th>\n",
              "    </tr>\n",
              "  </thead>\n",
              "  <tbody>\n",
              "    <tr>\n",
              "      <th>1</th>\n",
              "      <td>63</td>\n",
              "      <td>1</td>\n",
              "      <td>typical</td>\n",
              "      <td>145</td>\n",
              "      <td>233</td>\n",
              "      <td>1</td>\n",
              "      <td>2</td>\n",
              "      <td>150</td>\n",
              "      <td>0</td>\n",
              "      <td>2.3</td>\n",
              "      <td>3</td>\n",
              "      <td>0.0</td>\n",
              "      <td>fixed</td>\n",
              "      <td>No</td>\n",
              "    </tr>\n",
              "    <tr>\n",
              "      <th>2</th>\n",
              "      <td>67</td>\n",
              "      <td>1</td>\n",
              "      <td>asymptomatic</td>\n",
              "      <td>160</td>\n",
              "      <td>286</td>\n",
              "      <td>0</td>\n",
              "      <td>2</td>\n",
              "      <td>108</td>\n",
              "      <td>1</td>\n",
              "      <td>1.5</td>\n",
              "      <td>2</td>\n",
              "      <td>3.0</td>\n",
              "      <td>normal</td>\n",
              "      <td>Yes</td>\n",
              "    </tr>\n",
              "    <tr>\n",
              "      <th>3</th>\n",
              "      <td>67</td>\n",
              "      <td>1</td>\n",
              "      <td>asymptomatic</td>\n",
              "      <td>120</td>\n",
              "      <td>229</td>\n",
              "      <td>0</td>\n",
              "      <td>2</td>\n",
              "      <td>129</td>\n",
              "      <td>1</td>\n",
              "      <td>2.6</td>\n",
              "      <td>2</td>\n",
              "      <td>2.0</td>\n",
              "      <td>reversable</td>\n",
              "      <td>Yes</td>\n",
              "    </tr>\n",
              "    <tr>\n",
              "      <th>4</th>\n",
              "      <td>37</td>\n",
              "      <td>1</td>\n",
              "      <td>nonanginal</td>\n",
              "      <td>130</td>\n",
              "      <td>250</td>\n",
              "      <td>0</td>\n",
              "      <td>0</td>\n",
              "      <td>187</td>\n",
              "      <td>0</td>\n",
              "      <td>3.5</td>\n",
              "      <td>3</td>\n",
              "      <td>0.0</td>\n",
              "      <td>normal</td>\n",
              "      <td>No</td>\n",
              "    </tr>\n",
              "    <tr>\n",
              "      <th>5</th>\n",
              "      <td>41</td>\n",
              "      <td>0</td>\n",
              "      <td>nontypical</td>\n",
              "      <td>130</td>\n",
              "      <td>204</td>\n",
              "      <td>0</td>\n",
              "      <td>2</td>\n",
              "      <td>172</td>\n",
              "      <td>0</td>\n",
              "      <td>1.4</td>\n",
              "      <td>1</td>\n",
              "      <td>0.0</td>\n",
              "      <td>normal</td>\n",
              "      <td>No</td>\n",
              "    </tr>\n",
              "    <tr>\n",
              "      <th>...</th>\n",
              "      <td>...</td>\n",
              "      <td>...</td>\n",
              "      <td>...</td>\n",
              "      <td>...</td>\n",
              "      <td>...</td>\n",
              "      <td>...</td>\n",
              "      <td>...</td>\n",
              "      <td>...</td>\n",
              "      <td>...</td>\n",
              "      <td>...</td>\n",
              "      <td>...</td>\n",
              "      <td>...</td>\n",
              "      <td>...</td>\n",
              "      <td>...</td>\n",
              "    </tr>\n",
              "    <tr>\n",
              "      <th>298</th>\n",
              "      <td>57</td>\n",
              "      <td>0</td>\n",
              "      <td>asymptomatic</td>\n",
              "      <td>140</td>\n",
              "      <td>241</td>\n",
              "      <td>0</td>\n",
              "      <td>0</td>\n",
              "      <td>123</td>\n",
              "      <td>1</td>\n",
              "      <td>0.2</td>\n",
              "      <td>2</td>\n",
              "      <td>0.0</td>\n",
              "      <td>reversable</td>\n",
              "      <td>Yes</td>\n",
              "    </tr>\n",
              "    <tr>\n",
              "      <th>299</th>\n",
              "      <td>45</td>\n",
              "      <td>1</td>\n",
              "      <td>typical</td>\n",
              "      <td>110</td>\n",
              "      <td>264</td>\n",
              "      <td>0</td>\n",
              "      <td>0</td>\n",
              "      <td>132</td>\n",
              "      <td>0</td>\n",
              "      <td>1.2</td>\n",
              "      <td>2</td>\n",
              "      <td>0.0</td>\n",
              "      <td>reversable</td>\n",
              "      <td>Yes</td>\n",
              "    </tr>\n",
              "    <tr>\n",
              "      <th>300</th>\n",
              "      <td>68</td>\n",
              "      <td>1</td>\n",
              "      <td>asymptomatic</td>\n",
              "      <td>144</td>\n",
              "      <td>193</td>\n",
              "      <td>1</td>\n",
              "      <td>0</td>\n",
              "      <td>141</td>\n",
              "      <td>0</td>\n",
              "      <td>3.4</td>\n",
              "      <td>2</td>\n",
              "      <td>2.0</td>\n",
              "      <td>reversable</td>\n",
              "      <td>Yes</td>\n",
              "    </tr>\n",
              "    <tr>\n",
              "      <th>301</th>\n",
              "      <td>57</td>\n",
              "      <td>1</td>\n",
              "      <td>asymptomatic</td>\n",
              "      <td>130</td>\n",
              "      <td>131</td>\n",
              "      <td>0</td>\n",
              "      <td>0</td>\n",
              "      <td>115</td>\n",
              "      <td>1</td>\n",
              "      <td>1.2</td>\n",
              "      <td>2</td>\n",
              "      <td>1.0</td>\n",
              "      <td>reversable</td>\n",
              "      <td>Yes</td>\n",
              "    </tr>\n",
              "    <tr>\n",
              "      <th>302</th>\n",
              "      <td>57</td>\n",
              "      <td>0</td>\n",
              "      <td>nontypical</td>\n",
              "      <td>130</td>\n",
              "      <td>236</td>\n",
              "      <td>0</td>\n",
              "      <td>2</td>\n",
              "      <td>174</td>\n",
              "      <td>0</td>\n",
              "      <td>0.0</td>\n",
              "      <td>2</td>\n",
              "      <td>1.0</td>\n",
              "      <td>normal</td>\n",
              "      <td>Yes</td>\n",
              "    </tr>\n",
              "  </tbody>\n",
              "</table>\n",
              "<p>297 rows × 14 columns</p>\n",
              "</div>"
            ],
            "text/plain": [
              "     Age  Sex     ChestPain  RestBP  Chol  Fbs  RestECG  MaxHR  ExAng  \\\n",
              "1     63    1       typical     145   233    1        2    150      0   \n",
              "2     67    1  asymptomatic     160   286    0        2    108      1   \n",
              "3     67    1  asymptomatic     120   229    0        2    129      1   \n",
              "4     37    1    nonanginal     130   250    0        0    187      0   \n",
              "5     41    0    nontypical     130   204    0        2    172      0   \n",
              "..   ...  ...           ...     ...   ...  ...      ...    ...    ...   \n",
              "298   57    0  asymptomatic     140   241    0        0    123      1   \n",
              "299   45    1       typical     110   264    0        0    132      0   \n",
              "300   68    1  asymptomatic     144   193    1        0    141      0   \n",
              "301   57    1  asymptomatic     130   131    0        0    115      1   \n",
              "302   57    0    nontypical     130   236    0        2    174      0   \n",
              "\n",
              "     Oldpeak  Slope   Ca        Thal  AHD  \n",
              "1        2.3      3  0.0       fixed   No  \n",
              "2        1.5      2  3.0      normal  Yes  \n",
              "3        2.6      2  2.0  reversable  Yes  \n",
              "4        3.5      3  0.0      normal   No  \n",
              "5        1.4      1  0.0      normal   No  \n",
              "..       ...    ...  ...         ...  ...  \n",
              "298      0.2      2  0.0  reversable  Yes  \n",
              "299      1.2      2  0.0  reversable  Yes  \n",
              "300      3.4      2  2.0  reversable  Yes  \n",
              "301      1.2      2  1.0  reversable  Yes  \n",
              "302      0.0      2  1.0      normal  Yes  \n",
              "\n",
              "[297 rows x 14 columns]"
            ]
          },
          "execution_count": 8,
          "metadata": {},
          "output_type": "execute_result"
        }
      ],
      "source": [
        "df"
      ]
    },
    {
      "cell_type": "markdown",
      "id": "70a47bd5",
      "metadata": {
        "id": "70a47bd5"
      },
      "source": [
        "### Transforming non-numeric values"
      ]
    },
    {
      "cell_type": "code",
      "execution_count": null,
      "id": "c3265be5",
      "metadata": {
        "id": "c3265be5"
      },
      "outputs": [],
      "source": [
        "from sklearn.preprocessing import LabelEncoder\n",
        "# labelencoder_Y = LabelEncoder()\n",
        "le = LabelEncoder()\n",
        "le_heart_disease = df\n",
        "le_heart_disease.AHD = le.fit_transform(le_heart_disease.AHD)\n",
        "# df.AHD =  labelencoder_Y.fit_transform(df.AHD)\n",
        "# df\n",
        "# labelencoder_Y.fit_transform(df.AHD)\n",
        "# labelencoder_Y = df.fit_transform(df.AHD)"
      ]
    },
    {
      "cell_type": "code",
      "execution_count": null,
      "id": "5dfa2633",
      "metadata": {
        "id": "5dfa2633"
      },
      "outputs": [],
      "source": [
        "df.to_csv(\"without_na.csv\")"
      ]
    },
    {
      "cell_type": "code",
      "execution_count": null,
      "id": "17ec2b3d",
      "metadata": {
        "id": "17ec2b3d"
      },
      "outputs": [],
      "source": [
        "import numpy as np\n",
        "from sklearn.model_selection import train_test_split\n",
        "from sklearn import datasets\n",
        "import matplotlib.pyplot as plt\n",
        "from sklearn.metrics import confusion_matrix"
      ]
    },
    {
      "cell_type": "code",
      "execution_count": null,
      "id": "0978914e",
      "metadata": {
        "id": "0978914e",
        "outputId": "bd54fa74-0c18-46e9-b18b-aa9dd8f83c44"
      },
      "outputs": [
        {
          "data": {
            "text/plain": [
              "(297, 14)"
            ]
          },
          "execution_count": 12,
          "metadata": {},
          "output_type": "execute_result"
        }
      ],
      "source": [
        "df.shape"
      ]
    },
    {
      "cell_type": "markdown",
      "id": "7f71851f",
      "metadata": {
        "id": "7f71851f"
      },
      "source": [
        "### using iloc"
      ]
    },
    {
      "cell_type": "code",
      "execution_count": null,
      "id": "c1d19ae9",
      "metadata": {
        "id": "c1d19ae9",
        "outputId": "fa571a12-510b-4a73-8083-db21a58f2364"
      },
      "outputs": [
        {
          "name": "stdout",
          "output_type": "stream",
          "text": [
            "     Age  Sex     ChestPain  RestBP  Chol  Fbs  RestECG  MaxHR  ExAng  \\\n",
            "1     63    1       typical     145   233    1        2    150      0   \n",
            "2     67    1  asymptomatic     160   286    0        2    108      1   \n",
            "3     67    1  asymptomatic     120   229    0        2    129      1   \n",
            "4     37    1    nonanginal     130   250    0        0    187      0   \n",
            "5     41    0    nontypical     130   204    0        2    172      0   \n",
            "..   ...  ...           ...     ...   ...  ...      ...    ...    ...   \n",
            "298   57    0  asymptomatic     140   241    0        0    123      1   \n",
            "299   45    1       typical     110   264    0        0    132      0   \n",
            "300   68    1  asymptomatic     144   193    1        0    141      0   \n",
            "301   57    1  asymptomatic     130   131    0        0    115      1   \n",
            "302   57    0    nontypical     130   236    0        2    174      0   \n",
            "\n",
            "     Oldpeak  Slope   Ca        Thal  \n",
            "1        2.3      3  0.0       fixed  \n",
            "2        1.5      2  3.0      normal  \n",
            "3        2.6      2  2.0  reversable  \n",
            "4        3.5      3  0.0      normal  \n",
            "5        1.4      1  0.0      normal  \n",
            "..       ...    ...  ...         ...  \n",
            "298      0.2      2  0.0  reversable  \n",
            "299      1.2      2  0.0  reversable  \n",
            "300      3.4      2  2.0  reversable  \n",
            "301      1.2      2  1.0  reversable  \n",
            "302      0.0      2  1.0      normal  \n",
            "\n",
            "[297 rows x 13 columns]\n"
          ]
        },
        {
          "data": {
            "text/plain": [
              "1      0\n",
              "2      1\n",
              "3      1\n",
              "4      0\n",
              "5      0\n",
              "      ..\n",
              "298    1\n",
              "299    1\n",
              "300    1\n",
              "301    1\n",
              "302    1\n",
              "Name: AHD, Length: 297, dtype: int32"
            ]
          },
          "execution_count": 13,
          "metadata": {},
          "output_type": "execute_result"
        }
      ],
      "source": [
        "x = df.iloc[:,:-1]\n",
        "print(x)\n",
        "y = df.iloc[:,-1]\n",
        "y"
      ]
    },
    {
      "cell_type": "markdown",
      "id": "bebaf1ed",
      "metadata": {
        "id": "bebaf1ed"
      },
      "source": [
        "### Converting categorial data"
      ]
    },
    {
      "cell_type": "code",
      "execution_count": null,
      "id": "45d488f0",
      "metadata": {
        "id": "45d488f0",
        "outputId": "48e22d67-f42b-4afc-f108-20eb96280c30"
      },
      "outputs": [
        {
          "data": {
            "text/plain": [
              "array([[0., 0., 0., ..., 1., 0., 0.],\n",
              "       [0., 0., 0., ..., 0., 1., 0.],\n",
              "       [0., 0., 0., ..., 0., 0., 1.],\n",
              "       ...,\n",
              "       [0., 0., 0., ..., 0., 0., 1.],\n",
              "       [0., 0., 0., ..., 0., 0., 1.],\n",
              "       [0., 0., 0., ..., 0., 1., 0.]])"
            ]
          },
          "execution_count": 14,
          "metadata": {},
          "output_type": "execute_result"
        }
      ],
      "source": [
        "from sklearn.preprocessing import OneHotEncoder\n",
        "onehotencoder=OneHotEncoder()\n",
        "x=onehotencoder.fit_transform(x).toarray()\n",
        "x"
      ]
    },
    {
      "cell_type": "code",
      "execution_count": null,
      "id": "749a9083",
      "metadata": {
        "id": "749a9083"
      },
      "outputs": [],
      "source": [
        "# import numpy as np\n",
        "\n",
        "# class LogisticRegression:\n",
        "\n",
        "#     def __init__(self, learning_rate=0.001, n_iters=1000):\n",
        "#         self.lr = learning_rate\n",
        "#         self.n_iters = n_iters\n",
        "#         self.weights = None\n",
        "#         self.bias = None\n",
        "\n",
        "#     def fit(self, X, y):\n",
        "#         n_samples, n_features = X.shape\n",
        "\n",
        "#         # init parameters\n",
        "#         self.weights = np.zeros(n_features)\n",
        "#         self.bias = 0\n",
        "\n",
        "#         # gradient descent\n",
        "#         for _ in range(self.n_iters):\n",
        "#             # approximate y with linear combination of weights and x, plus bias\n",
        "#             linear_model = np.dot(X, self.weights) + self.bias\n",
        "#             # apply sigmoid function\n",
        "#             y_predicted = self._sigmoid(linear_model)\n",
        "\n",
        "#             # compute gradients\n",
        "#             dw = (1 / n_samples) * np.dot(X.T, (y_predicted - y))\n",
        "#             db = (1 / n_samples) * np.sum(y_predicted - y)\n",
        "#             # update parameters\n",
        "#             self.weights -= self.lr * dw\n",
        "#             self.bias -= self.lr * db\n",
        "\n",
        "#     def predict(self, X):\n",
        "#         linear_model = np.dot(X, self.weights) + self.bias\n",
        "#         y_predicted = self._sigmoid(linear_model)\n",
        "#         y_predicted_cls = [1 if i > 0.5 else 0 for i in y_predicted]\n",
        "#         return np.array(y_predicted_cls)\n",
        "\n",
        "#     def _sigmoid(self, x):\n",
        "#         return 1 / (1 + np.exp(-x))"
      ]
    },
    {
      "cell_type": "code",
      "execution_count": null,
      "id": "5253fc65",
      "metadata": {
        "id": "5253fc65"
      },
      "outputs": [],
      "source": [
        ""
      ]
    },
    {
      "cell_type": "code",
      "execution_count": null,
      "id": "d4104ee8",
      "metadata": {
        "id": "d4104ee8"
      },
      "outputs": [],
      "source": [
        "# import numpy as np\n",
        "# from sklearn.model_selection import train_test_split\n",
        "# from sklearn import datasets\n",
        "# import matplotlib.pyplot as plt\n",
        "# from sklearn.metrics import confusion_matrix\n",
        "\n",
        "\n",
        "# # from logistic_regression import LogisticRegression\n",
        "# #from regression import LogisticRegression\n",
        "\n",
        "# # def accuracy(y_true, y_pred):\n",
        "# #     accuracy = np.sum(y_true == y_pred) / len(y_true)\n",
        "# #     return accuracy\n",
        "\n",
        "# def accuracy(y_true, y_pred):\n",
        "#     accuracy=np.sum(y_true==y_pred)/len(y_true)\n",
        "#     return accuracy\n",
        "# X_train, X_test, y_train, y_test = train_test_split(x, y, test_size=0.2, random_state=12)\n",
        "# #\n",
        "# regressor = LogisticRegression(learning_rate=0.001, n_iters=100)\n",
        "# regressor.fit(X_train, y_train)\n",
        "# predictions = regressor.predict(X_test)\n",
        "# print(predictions[0:10])\n",
        "# print(y_test[0:10])\n",
        "# # print(f\">>>>>>>>{len(y_test)}>>>>>>>\")\n",
        "\n",
        "\n",
        "# print(\"LR classification accuracy:\", accuracy(y_test, predictions))\n",
        "# cm=confusion_matrix(predictions, y_test)\n",
        "# print(cm)"
      ]
    },
    {
      "cell_type": "markdown",
      "id": "2ae8e528",
      "metadata": {
        "id": "2ae8e528"
      },
      "source": [
        "### Plotting graphs"
      ]
    },
    {
      "cell_type": "code",
      "execution_count": null,
      "id": "5526594e",
      "metadata": {
        "id": "5526594e",
        "outputId": "40a6f692-d356-47a3-ad12-e4622dbb6ab0"
      },
      "outputs": [
        {
          "data": {
            "text/plain": [
              "<matplotlib.collections.PathCollection at 0x2896557cf40>"
            ]
          },
          "execution_count": 17,
          "metadata": {},
          "output_type": "execute_result"
        },
        {
          "data": {
            "image/png": "[encoded data removed]",
            "text/plain": [
              "<Figure size 432x288 with 1 Axes>"
            ]
          },
          "metadata": {
            "needs_background": "light"
          },
          "output_type": "display_data"
        }
      ],
      "source": [
        " #Scatter Plot\n",
        "plt.scatter(\"MaxHR\",\"Age\",data = df, color='orange', s=60)\n"
      ]
    },
    {
      "cell_type": "code",
      "execution_count": null,
      "id": "126bb3c7",
      "metadata": {
        "id": "126bb3c7",
        "outputId": "b6054820-be0f-4d22-eb87-0ef4c92f3af6"
      },
      "outputs": [
        {
          "data": {
            "image/png": "[encoded data removed]",
            "text/plain": [
              "<Figure size 432x288 with 1 Axes>"
            ]
          },
          "metadata": {
            "needs_background": "light"
          },
          "output_type": "display_data"
        }
      ],
      "source": [
        " #Plotting graph\n",
        "plt.bar(\"Age\", \"ChestPain\", data = df, color = \"green\")\n",
        "plt.xlabel(\"Age\")\n",
        "plt.ylabel(\"Chest Pain\")\n",
        "plt.title(\"Age VS Type of chest pain\")\n",
        "plt.show()\n",
        "\n"
      ]
    },
    {
      "cell_type": "markdown",
      "id": "9e5ce987",
      "metadata": {
        "id": "9e5ce987"
      },
      "source": [
        "### Spiliiting data into train and test"
      ]
    },
    {
      "cell_type": "code",
      "execution_count": null,
      "id": "cfaa3170",
      "metadata": {
        "id": "cfaa3170"
      },
      "outputs": [],
      "source": [
        "from sklearn.model_selection import train_test_split\n",
        "X_train,X_test,y_train,y_test=train_test_split(x,y,test_size=0.2,random_state=24)"
      ]
    },
    {
      "cell_type": "markdown",
      "id": "eaf2c9c2",
      "metadata": {
        "id": "eaf2c9c2"
      },
      "source": [
        "### Applying logic"
      ]
    },
    {
      "cell_type": "code",
      "execution_count": null,
      "id": "0e0ab37e",
      "metadata": {
        "id": "0e0ab37e",
        "outputId": "d6ff8980-ab4a-4a5a-af21-f772e2f41d96"
      },
      "outputs": [
        {
          "name": "stdout",
          "output_type": "stream",
          "text": [
            "[1 0 1 0 1 0 0 0 1 0]\n",
            "65     1\n",
            "246    1\n",
            "178    1\n",
            "4      0\n",
            "30     1\n",
            "116    0\n",
            "134    0\n",
            "16     0\n",
            "55     1\n",
            "217    0\n",
            "Name: AHD, dtype: int32\n"
          ]
        }
      ],
      "source": [
        "from sklearn.linear_model import LogisticRegression\n",
        "import numpy as np\n",
        "from sklearn.model_selection import train_test_split\n",
        "from sklearn import datasets\n",
        "import matplotlib.pyplot as plt\n",
        "from sklearn.metrics import confusion_matrix\n",
        "\n",
        "\n",
        "# from logistic_regression import LogisticRegression\n",
        "# from logistic_regression import LogisticRegression\n",
        "# regressor = LogisticRegression(learning_rate=0.0001, n_iters=1000)\n",
        "regressor = LogisticRegression().fit(X_train, y_train)\n",
        "# regressor.fit(X_train, y_train)\n",
        "predictions = regressor.predict(X_test)\n",
        "print(predictions[0:10])\n",
        "print(y_test[0:10])\n",
        "# print(f\">>>>>>>>{len(y_test)}>>>>>>>\")"
      ]
    },
    {
      "cell_type": "markdown",
      "id": "6a3f001b",
      "metadata": {
        "id": "6a3f001b"
      },
      "source": [
        "### Checking accuracy of the model"
      ]
    },
    {
      "cell_type": "code",
      "execution_count": null,
      "id": "8144635a",
      "metadata": {
        "id": "8144635a",
        "outputId": "1cc5a71b-ed1a-423f-d55a-7f051f949647"
      },
      "outputs": [
        {
          "name": "stdout",
          "output_type": "stream",
          "text": [
            "LR classification accuracy: 0.85\n"
          ]
        }
      ],
      "source": [
        "def accuracy(y_true, y_pred):\n",
        "    accuracy=np.sum(y_true==y_pred)/len(y_true)\n",
        "    return accuracy\n",
        "print(\"LR classification accuracy:\", accuracy(y_test, predictions))"
      ]
    },
    {
      "cell_type": "markdown",
      "id": "bd0d72d5",
      "metadata": {
        "id": "bd0d72d5"
      },
      "source": [
        "# Model is created with an accuracy of 85%"
      ]
    },
    {
      "cell_type": "code",
      "execution_count": null,
      "id": "3db739ac",
      "metadata": {
        "id": "3db739ac"
      },
      "outputs": [],
      "source": [
        "# from logistic_regression import LogisticRegression\n",
        "# from sklearn.linear_model import LogisticRegression\n",
        "# from logistic_regression import LogisticRegression"
      ]
    },
    {
      "cell_type": "code",
      "execution_count": null,
      "id": "873ee071",
      "metadata": {
        "id": "873ee071"
      },
      "outputs": [],
      "source": [
        "# def accuracy(y_true, y_pred):\n",
        "#     accuracy=np.sum(y_true==y_pred)/len(y_true)\n",
        "#     return accuracy\n",
        "# df = pd.read_csv('without_na.csv')\n",
        "# X = np.asarray(df[['Age','Sex','ChestPain','RestBP','Chol','Fbs','RestECG','MaxHR','ExAng','Oldpeak','Slope','Ca','Thal']])\n",
        "# y = np.asarray(df['AHD'])\n",
        "\n",
        "# X_train, X_test, y_train, y_test = train_test_split(X, y, test_size=0.2, random_state=1234)\n",
        "# #\n",
        "# regressor = LogisticRegression(learning_rate=0.0001, n_iters=1000)\n",
        "# regressor.fit(X_train, y_train)\n",
        "# predictions = regressor.predict(X_test)\n",
        "# print(predictions[0:10])\n",
        "# print(y_test[0:10])\n",
        "# # print(f\">>>>>>>>{len(y_test)}>>>>>>>\")\n",
        "\n",
        "\n",
        "# print(\"LR classification accuracy:\", accuracy(y_test, predictions))\n",
        "# cm=confusion_matrix(predictions, y_test)\n",
        "# print(cm)"
      ]
    },
    {
      "cell_type": "code",
      "execution_count": null,
      "id": "63649c2c",
      "metadata": {
        "id": "63649c2c"
      },
      "outputs": [],
      "source": [
        ""
      ]
    },
    {
      "cell_type": "code",
      "execution_count": null,
      "id": "e71d56ac",
      "metadata": {
        "id": "e71d56ac"
      },
      "outputs": [],
      "source": [
        ""
      ]
    }
  ],
  "metadata": {
    "kernelspec": {
      "display_name": "Python 3",
      "language": "python",
      "name": "python3"
    },
    "language_info": {
      "codemirror_mode": {
        "name": "ipython",
        "version": 3
      },
      "file_extension": ".py",
      "mimetype": "text/x-python",
      "name": "python",
      "nbconvert_exporter": "python",
      "pygments_lexer": "ipython3",
      "version": "3.9.1"
    },
    "colab": {
      "name": "A_project_ML_updated.ipynb",
      "provenance": [],
      "collapsed_sections": []
    }
  },
  "nbformat": 4,
  "nbformat_minor": 5
}